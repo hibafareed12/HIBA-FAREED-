{
 "cells": [
  {
   "cell_type": "markdown",
   "id": "56df9b50-3ace-4aac-8cbc-cc8c72a03513",
   "metadata": {},
   "source": [
    "#Hiba fareed\n",
    "#SP25-BBD-038"
   ]
  },
  {
   "cell_type": "code",
   "execution_count": 1,
   "id": "53c4c5ed-62ba-4c27-8fc4-0d3cf4d9ee6f",
   "metadata": {},
   "outputs": [
    {
     "name": "stdout",
     "output_type": "stream",
     "text": [
      "2\n",
      "4\n",
      "6\n",
      "8\n",
      "10\n",
      "12\n",
      "14\n",
      "16\n",
      "18\n",
      "20\n"
     ]
    }
   ],
   "source": [
    "#Question no 1. Print all even numbers from 2 to 20\n",
    "for num in range(2, 21, 2):\n",
    "    print(num)"
   ]
  },
  {
   "cell_type": "code",
   "execution_count": 2,
   "id": "7eed0a9d-f728-4661-ad15-6aa4887719a1",
   "metadata": {},
   "outputs": [
    {
     "name": "stdout",
     "output_type": "stream",
     "text": [
      "HIBA\n",
      "HUMNA\n",
      "AHAD\n",
      "NOOR\n",
      "HADIA\n"
     ]
    }
   ],
   "source": [
    "#Question no 2. Print each name in uppercase\n",
    "names = [\"hiba\",\"humna\",\"ahad\",\"noor\",\"hadia\"]\n",
    "for name in names:\n",
    "    print(name.upper())"
   ]
  },
  {
   "cell_type": "code",
   "execution_count": 3,
   "id": "83bce184-03b2-4dc8-b593-f86723643c17",
   "metadata": {},
   "outputs": [
    {
     "name": "stdout",
     "output_type": "stream",
     "text": [
      "10\n",
      "9\n",
      "8\n",
      "7\n",
      "6\n",
      "5\n",
      "4\n",
      "3\n",
      "2\n",
      "1\n"
     ]
    }
   ],
   "source": [
    "#QUESTION 3. Print numbers from 10 to 1 in reverse order\n",
    "for num in range(10, 0, -1):\n",
    "    print(num)"
   ]
  },
  {
   "cell_type": "code",
   "execution_count": 4,
   "id": "5293c6fe-d966-44fc-b973-bc21fa30b1b3",
   "metadata": {},
   "outputs": [
    {
     "name": "stdout",
     "output_type": "stream",
     "text": [
      "3\n",
      "9\n",
      "12\n",
      "15\n",
      "18\n"
     ]
    }
   ],
   "source": [
    "#QUESTION 4. Print numbers that are divisible by 3\n",
    "numbers = [3, 7, 9, 12, 15, 18, 20, 25]\n",
    "for num in numbers:\n",
    "    if num % 3 == 0:\n",
    "        print(num)"
   ]
  },
  {
   "cell_type": "code",
   "execution_count": 5,
   "id": "4d476822-76b0-4233-a8d1-15cf92824a5f",
   "metadata": {},
   "outputs": [
    {
     "name": "stdout",
     "output_type": "stream",
     "text": [
      "1\n",
      "4\n",
      "9\n",
      "16\n",
      "25\n",
      "36\n",
      "49\n",
      "64\n",
      "81\n",
      "100\n"
     ]
    }
   ],
   "source": [
    "#QUESTION 5. Print squares of numbers from 1 to 10\n",
    "for num in range(1, 11):\n",
    "    print(num ** 2)"
   ]
  },
  {
   "cell_type": "code",
   "execution_count": 6,
   "id": "85a20171-4180-43e1-8a98-4266fe50c9e8",
   "metadata": {},
   "outputs": [
    {
     "name": "stdout",
     "output_type": "stream",
     "text": [
      "[32.0, 50.0, 68.0, 86.0, 104.0]\n"
     ]
    }
   ],
   "source": [
    "#QUESTION 6. Convert temperatures from Celsius to Fahrenheit\n",
    "celsius_temps = [0, 10, 20, 30, 40]\n",
    "fahrenheit_temps = [(temp * 9/5) + 32 for temp in celsius_temps]\n",
    "print(fahrenheit_temps)"
   ]
  },
  {
   "cell_type": "code",
   "execution_count": 7,
   "id": "9f321895-087c-4b27-adef-f40964091152",
   "metadata": {},
   "outputs": [
    {
     "name": "stdout",
     "output_type": "stream",
     "text": [
      "5 x 1 = 5\n",
      "5 x 2 = 10\n",
      "5 x 3 = 15\n",
      "5 x 4 = 20\n",
      "5 x 5 = 25\n",
      "5 x 6 = 30\n",
      "5 x 7 = 35\n",
      "5 x 8 = 40\n",
      "5 x 9 = 45\n",
      "5 x 10 = 50\n"
     ]
    }
   ],
   "source": [
    "#QUESTION 7. Print multiplication table of 5\n",
    "for num in range(1, 11):\n",
    "    print(f\"5 x {num} = {5 * num}\")"
   ]
  },
  {
   "cell_type": "code",
   "execution_count": 8,
   "id": "fe11eb93-8f78-4c7b-b3d0-b605dff6bf94",
   "metadata": {},
   "outputs": [
    {
     "name": "stdout",
     "output_type": "stream",
     "text": [
      "Sum: 15\n"
     ]
    }
   ],
   "source": [
    "#QUESTION 8. Find the sum of all numbers in a list\n",
    "num_list = [1, 2, 3, 4, 5]\n",
    "total = 0\n",
    "for num in num_list:\n",
    "    total += num\n",
    "print(\"Sum:\", total)"
   ]
  },
  {
   "cell_type": "code",
   "execution_count": 9,
   "id": "4206818c-d0eb-431d-9a77-c2c031432c70",
   "metadata": {},
   "outputs": [
    {
     "name": "stdout",
     "output_type": "stream",
     "text": [
      "c\n",
      "o\n",
      "m\n",
      "p\n",
      "u\n",
      "t\n",
      "e\n",
      "r\n"
     ]
    }
   ],
   "source": [
    "#QUESTION 9. Iterate through a string and print each character separately\n",
    "word = \"computer\"\n",
    "for char in word:\n",
    "    print(char)"
   ]
  },
  {
   "cell_type": "code",
   "execution_count": 10,
   "id": "c88750b7-ae25-4ed3-a0bd-659dc0cfd342",
   "metadata": {},
   "outputs": [
    {
     "name": "stdout",
     "output_type": "stream",
     "text": [
      "mehran\n",
      "corolla\n",
      "mustang\n"
     ]
    }
   ],
   "source": [
    "#QUESTION 10. Print words with more than 5 letters\n",
    "words = [\"city\",\"civic\",\"tesla\",\"mehran\",\"corolla\",\"mustang\"]\n",
    "for word in words:\n",
    "    if len(word) > 5:\n",
    "        print(word)\n"
   ]
  },
  {
   "cell_type": "code",
   "execution_count": null,
   "id": "4c41f66d-78ca-4c48-b892-cc951cb827e8",
   "metadata": {},
   "outputs": [],
   "source": []
  }
 ],
 "metadata": {
  "kernelspec": {
   "display_name": "Python 3 (ipykernel)",
   "language": "python",
   "name": "python3"
  },
  "language_info": {
   "codemirror_mode": {
    "name": "ipython",
    "version": 3
   },
   "file_extension": ".py",
   "mimetype": "text/x-python",
   "name": "python",
   "nbconvert_exporter": "python",
   "pygments_lexer": "ipython3",
   "version": "3.12.7"
  }
 },
 "nbformat": 4,
 "nbformat_minor": 5
}
